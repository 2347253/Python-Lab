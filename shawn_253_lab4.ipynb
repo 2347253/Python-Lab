{
 "cells": [
  {
   "cell_type": "code",
   "execution_count": 1,
   "metadata": {},
   "outputs": [
    {
     "name": "stdout",
     "output_type": "stream",
     "text": [
      "DapR belongs to SENTINELS\n",
      "Tenz belongs to SENTINELS\n"
     ]
    }
   ],
   "source": [
    "#TO DISPLAY HIERARCHIAL INHERITANCE\n",
    "class Team_name: \n",
    "    def __init__(self, teamname):  \n",
    "        self.teamname = teamname \n",
    "\n",
    "class player_one(Team_name): \n",
    "    def __init__(self, playerone):  \n",
    "        self.playerone = playerone\n",
    "        super().__init__(\"SENTINELS\") \n",
    "\n",
    "    def func_print(self):  \n",
    "        print (self.playerone, \"belongs to\" ,self.teamname) \n",
    "\n",
    "class player_two(Team_name): \n",
    "    def __init__(self, playertwo):  \n",
    "        self.playertwo = playertwo \n",
    "        super().__init__(\"SENTINELS\") \n",
    "\n",
    "    def func_print2(self):  \n",
    "        print (self.playertwo, \"belongs to\" ,self.teamname) \n",
    "\n",
    "        \n",
    "p1=player_one(\"DapR\")\n",
    "p2=player_two(\"Tenz\")\n",
    "p1.func_print() \n",
    "p2.func_print2() \n"
   ]
  },
  {
   "cell_type": "code",
   "execution_count": 2,
   "metadata": {},
   "outputs": [
    {
     "name": "stdout",
     "output_type": "stream",
     "text": [
      "TenZ who is of 22 years, loves to play; Valorant\n"
     ]
    }
   ],
   "source": [
    "#TO DISPLAY MULTI-LEVEL INHERITANCE\n",
    "class Player_Name: \n",
    "    def __init__(self,playername):\n",
    "        self.playername=playername\n",
    "    \n",
    "class Fav_Game(Player_Name):  \n",
    "    def __init__(self,favgame,playername):\n",
    "        self.favgame=favgame\n",
    "\n",
    "        Player_Name.__init__(self,playername)\n",
    "\n",
    "class player_age(Fav_Game):  \n",
    "    def __init__(self,playerage,favgame,playername):\n",
    "        self.playerage=playerage\n",
    "\n",
    "        Fav_Game.__init__(self,favgame,playername)      \n",
    "  \n",
    "class player(player_age):  \n",
    "    def __init__(self,playerage,favgame,playername):  \n",
    "        player_age.__init__(self,playerage,favgame,playername)\n",
    "\n",
    "    def combined_print(self):\n",
    "        print ( self.playername, \"who is of\", self.playerage , \"years, loves to play;\" , self.favgame)  \n",
    "\n",
    "    \n",
    "\n",
    "  \n",
    "p1 = player(22,\"Valorant\",\"TenZ\")  \n",
    "p1.combined_print()  "
   ]
  },
  {
   "cell_type": "code",
   "execution_count": null,
   "metadata": {},
   "outputs": [],
   "source": []
  },
  {
   "cell_type": "code",
   "execution_count": 1,
   "metadata": {},
   "outputs": [
    {
     "name": "stdout",
     "output_type": "stream",
     "text": [
      "The player's name is; TenZ and he belongs to the team SENTINELS\n"
     ]
    }
   ],
   "source": [
    "#MULTIPLE INHERITANCE\n",
    "#TO DISPLAY MULTIPLE INHERITANCE\n",
    "class Player_Name:  \n",
    "    name = \"\"  \n",
    "    def name(self):  \n",
    "        print(self.name)  \n",
    "   \n",
    "class Player_Team:  \n",
    "    team = \"\"  \n",
    "    def team(self):  \n",
    "        print(self.team)  \n",
    "  \n",
    "class player(Player_Name, Player_Team):  \n",
    "    def combined_fields(self):  \n",
    "        print (\"The player's name is;\", self.name, \"and he belongs to the team\" , self.team)  \n",
    "  \n",
    "p1 = player()  \n",
    "p1.name = \"TenZ\"  \n",
    "p1.team = \"SENTINELS\"  \n",
    "p1.combined_fields()  "
   ]
  }
 ],
 "metadata": {
  "kernelspec": {
   "display_name": "Python 3",
   "language": "python",
   "name": "python3"
  },
  "language_info": {
   "codemirror_mode": {
    "name": "ipython",
    "version": 3
   },
   "file_extension": ".py",
   "mimetype": "text/x-python",
   "name": "python",
   "nbconvert_exporter": "python",
   "pygments_lexer": "ipython3",
   "version": "3.11.4"
  },
  "orig_nbformat": 4
 },
 "nbformat": 4,
 "nbformat_minor": 2
}
