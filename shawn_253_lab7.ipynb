{
 "cells": [
  {
   "cell_type": "code",
   "execution_count": 3,
   "metadata": {},
   "outputs": [
    {
     "name": "stdout",
     "output_type": "stream",
     "text": [
      "Matrix 1:\n",
      "[[0 7 6]\n",
      " [4 3 7]\n",
      " [0 8 3]]\n",
      "\n",
      "Matrix 2:\n",
      "[[4 4 2]\n",
      " [1 1 1]\n",
      " [4 9 2]]\n",
      "\n",
      "Product of the matrices:\n",
      "[[31 61 19]\n",
      " [47 82 25]\n",
      " [20 35 14]]\n",
      "\n",
      "Multiplication of the matrices:\n",
      "[[ 0 28 12]\n",
      " [ 4  3  7]\n",
      " [ 0 72  6]]\n",
      "\n",
      "Dot product of the matrices:\n",
      "[[31 61 19]\n",
      " [47 82 25]\n",
      " [20 35 14]]\n"
     ]
    }
   ],
   "source": [
    "#Create two 3×3 matrices using the random function in Numpy and perform the following operations.\n",
    "#è Product (prod)\n",
    "#è Multiplication (multiply)\n",
    "#è Dot Product (dot) \n",
    "\n",
    "import numpy as np\n",
    "\n",
    "# Create two 3x3 matrices\n",
    "matrix1 = np.random.randint(10, size=(3, 3))\n",
    "matrix2 = np.random.randint(10, size=(3, 3))\n",
    "\n",
    "# Print the matrices\n",
    "print(\"Matrix 1:\")\n",
    "print(matrix1)\n",
    "print(\"\\nMatrix 2:\")\n",
    "print(matrix2)\n",
    "\n",
    "# Calculate the product of the matrices\n",
    "product = np.dot(matrix1, matrix2)\n",
    "\n",
    "# Print the product\n",
    "print(\"\\nProduct of the matrices:\")\n",
    "print(product)\n",
    "\n",
    "# Calculate the multiplication of the matrices\n",
    "multiplication = matrix1 * matrix2\n",
    "\n",
    "# Print the multiplication\n",
    "print(\"\\nMultiplication of the matrices:\")\n",
    "print(multiplication)\n",
    "\n",
    "# Calculate the dot product of the matrices\n",
    "dot_product = np.matmul(matrix1, matrix2)\n",
    "\n",
    "# Print the dot product\n",
    "print(\"\\nDot product of the matrices:\")\n",
    "print(dot_product)"
   ]
  },
  {
   "cell_type": "markdown",
   "metadata": {},
   "source": [
    "Perform the following set operations using the Numpy functions.\n",
    "- Union\n",
    "- Intersection\n",
    "- Set difference\n",
    "- XOR"
   ]
  },
  {
   "cell_type": "code",
   "execution_count": 4,
   "metadata": {},
   "outputs": [
    {
     "name": "stdout",
     "output_type": "stream",
     "text": [
      "Set 1:\n",
      "[1 2 3 4 5]\n",
      "\n",
      "Set 2:\n",
      "[3 4 5 6 7]\n",
      "\n",
      "Union of the sets:\n",
      "[1 2 3 4 5 6 7]\n",
      "\n",
      "Intersection of the sets:\n",
      "[3 4 5]\n",
      "\n",
      "Set difference of set1 and set2:\n",
      "[1 2]\n",
      "\n",
      "XOR of the sets:\n",
      "[1 2 6 7]\n"
     ]
    }
   ],
   "source": [
    "import numpy as np\n",
    "\n",
    "# Create two sets\n",
    "set1 = np.array([1, 2, 3, 4, 5])\n",
    "set2 = np.array([3, 4, 5, 6, 7])\n",
    "\n",
    "# Print the sets\n",
    "print(\"Set 1:\")\n",
    "print(set1)\n",
    "print(\"\\nSet 2:\")\n",
    "print(set2)\n",
    "\n",
    "# Calculate the union of the sets\n",
    "union = np.union1d(set1, set2)\n",
    "\n",
    "# Print the union\n",
    "print(\"\\nUnion of the sets:\")\n",
    "print(union)\n",
    "\n",
    "# Calculate the intersection of the sets\n",
    "intersection = np.intersect1d(set1, set2)\n",
    "\n",
    "# Print the intersection\n",
    "print(\"\\nIntersection of the sets:\")\n",
    "print(intersection)\n",
    "\n",
    "# Calculate the set difference of set1 and set2\n",
    "set_difference1 = np.setdiff1d(set1, set2)\n",
    "\n",
    "# Print the set difference\n",
    "print(\"\\nSet difference of set1 and set2:\")\n",
    "print(set_difference1)\n",
    "\n",
    "\n",
    "# Calculate the XOR of the sets\n",
    "xor = np.setxor1d(set1, set2)\n",
    "\n",
    "# Print the XOR\n",
    "print(\"\\nXOR of the sets:\")\n",
    "print(xor)\n"
   ]
  },
  {
   "cell_type": "markdown",
   "metadata": {},
   "source": [
    "Create a 1D array using Random function and perform the following operations.\n",
    "- Cumulative sum\n",
    "- Cumulative Product\n",
    "- Discrete difference (with n=3)\n",
    "- Find the unique elements from the array"
   ]
  },
  {
   "cell_type": "code",
   "execution_count": 5,
   "metadata": {},
   "outputs": [
    {
     "name": "stdout",
     "output_type": "stream",
     "text": [
      "Array:\n",
      "[4 8 5 3 9 2 5 0 7 5]\n",
      "\n",
      "Cumulative sum:\n",
      "[ 4 12 17 20 29 31 36 36 43 48]\n",
      "\n",
      "Cumulative product:\n",
      "[    4    32   160   480  4320  8640 43200     0     0     0]\n",
      "\n",
      "Discrete difference (n=3):\n",
      "[  8   7 -21  23 -18  20 -21]\n",
      "\n",
      "Unique elements:\n",
      "[0 2 3 4 5 7 8 9]\n"
     ]
    }
   ],
   "source": [
    "import numpy as np\n",
    "\n",
    "# Create a 1D array with 10 elements\n",
    "array = np.random.randint(10, size=10)\n",
    "\n",
    "# Print the array\n",
    "print(\"Array:\")\n",
    "print(array)\n",
    "\n",
    "# Calculate the cumulative sum of the array\n",
    "cumulative_sum = np.cumsum(array)\n",
    "\n",
    "# Print the cumulative sum\n",
    "print(\"\\nCumulative sum:\")\n",
    "print(cumulative_sum)\n",
    "\n",
    "# Calculate the cumulative product of the array\n",
    "cumulative_product = np.cumprod(array)\n",
    "\n",
    "# Print the cumulative product\n",
    "print(\"\\nCumulative product:\")\n",
    "print(cumulative_product)\n",
    "\n",
    "# Calculate the discrete difference of the array with n=3\n",
    "discrete_difference = np.diff(array, n=3)\n",
    "\n",
    "# Print the discrete difference\n",
    "print(\"\\nDiscrete difference (n=3):\")\n",
    "print(discrete_difference)\n",
    "\n",
    "# Find the unique elements from the array\n",
    "unique_elements = np.unique(array)\n",
    "\n",
    "# Print the unique elements\n",
    "print(\"\\nUnique elements:\")\n",
    "print(unique_elements)\n"
   ]
  },
  {
   "cell_type": "markdown",
   "metadata": {},
   "source": [
    "Create two 1D array and perform the Addition using zip(), add() and user defined function (frompyfunc())"
   ]
  },
  {
   "cell_type": "code",
   "execution_count": 10,
   "metadata": {},
   "outputs": [
    {
     "name": "stdout",
     "output_type": "stream",
     "text": [
      "Addition using zip():\n",
      "[7, 9, 11, 13, 15]\n",
      "Addition using numpy.add():\n",
      "[ 7  9 11 13 15]\n",
      "Addition using user-defined function (frompyfunc()):\n",
      "[7 9 11 13 15]\n"
     ]
    }
   ],
   "source": [
    "import numpy as np\n",
    "\n",
    "# Create two 1D arrays\n",
    "array1 = np.array([1, 2, 3, 4, 5])\n",
    "array2 = np.array([6, 7, 8, 9, 10])\n",
    "\n",
    "# Perform addition using zip()\n",
    "addition_zip = [x + y for x, y in zip(array1, array2)]\n",
    "print(\"Addition using zip():\")\n",
    "print(addition_zip)\n",
    "\n",
    "# Perform addition using numpy.add()\n",
    "addition_np = np.add(array1, array2)\n",
    "print(\"Addition using numpy.add():\")\n",
    "print(addition_np)\n",
    "\n",
    "# Define a user-defined addition function using numpy.frompyfunc()\n",
    "def custom_add(x, y):\n",
    "    return x + y\n",
    "\n",
    "addition_custom = np.frompyfunc(custom_add, 2, 1)(array1, array2)\n",
    "print(\"Addition using user-defined function (frompyfunc()):\")\n",
    "print(addition_custom)"
   ]
  },
  {
   "cell_type": "markdown",
   "metadata": {},
   "source": [
    "Find the LCM (Least Common Multiple) and GCD (Greatest Common Divisor) of an array of elements using reduce()"
   ]
  },
  {
   "cell_type": "code",
   "execution_count": 11,
   "metadata": {},
   "outputs": [
    {
     "name": "stdout",
     "output_type": "stream",
     "text": [
      "Array: [12, 18, 24, 36]\n",
      "LCM of the elements: 72\n",
      "GCD of the elements: 6\n"
     ]
    }
   ],
   "source": [
    "from functools import reduce\n",
    "import math\n",
    "\n",
    "# Define a function to find the LCM of two numbers\n",
    "def lcm(x, y):\n",
    "    return x * y // math.gcd(x, y)\n",
    "\n",
    "# Define a function to find the GCD of two numbers\n",
    "def gcd(x, y):\n",
    "    return math.gcd(x, y)\n",
    "\n",
    "# Example array of elements\n",
    "array = [12, 18, 24, 36]\n",
    "\n",
    "# Find the LCM of the elements in the array\n",
    "lcm_result = reduce(lcm, array)\n",
    "\n",
    "# Find the GCD of the elements in the array\n",
    "gcd_result = reduce(gcd, array)\n",
    "\n",
    "print(\"Array:\", array)\n",
    "print(\"LCM of the elements:\", lcm_result)\n",
    "print(\"GCD of the elements:\", gcd_result)"
   ]
  }
 ],
 "metadata": {
  "kernelspec": {
   "display_name": "Python 3",
   "language": "python",
   "name": "python3"
  },
  "language_info": {
   "codemirror_mode": {
    "name": "ipython",
    "version": 3
   },
   "file_extension": ".py",
   "mimetype": "text/x-python",
   "name": "python",
   "nbconvert_exporter": "python",
   "pygments_lexer": "ipython3",
   "version": "3.11.4"
  },
  "orig_nbformat": 4
 },
 "nbformat": 4,
 "nbformat_minor": 2
}
