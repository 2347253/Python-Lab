{
 "cells": [
  {
   "cell_type": "markdown",
   "metadata": {},
   "source": [
    "Array Indexing and Fancy Indexing"
   ]
  },
  {
   "cell_type": "code",
   "execution_count": 2,
   "metadata": {},
   "outputs": [
    {
     "name": "stdout",
     "output_type": "stream",
     "text": [
      "50\n",
      "[ 1  4 50 28]\n"
     ]
    }
   ],
   "source": [
    "import numpy as np\n",
    "\n",
    "X = np.array([1, 12, 31, 4, 50, 6, 7, 28,  9, 20])\n",
    "\n",
    "print(X[4]) #returning the number in the fifth position\n",
    "\n",
    "\n",
    "Y = np.array([1, 12, 31, 4, 50, 6, 7, 28,  9, 20])\n",
    "\n",
    "Z = [0,3,4,7]\n",
    "\n",
    "#fancy indexing\n",
    "print(Y[Z])\n"
   ]
  },
  {
   "cell_type": "markdown",
   "metadata": {},
   "source": [
    "2D Slicing of Array"
   ]
  },
  {
   "cell_type": "code",
   "execution_count": 19,
   "metadata": {},
   "outputs": [
    {
     "name": "stdout",
     "output_type": "stream",
     "text": [
      "[[1 2 3]\n",
      " [6 7 8]] \n",
      "\n",
      "Subarray 2:\n",
      "[2 7] \n",
      "\n",
      "Subarray 3:\n",
      "[ 6  7  8  9 10]\n"
     ]
    }
   ],
   "source": [
    "\n",
    "array = np.array([[1, 2, 3, 4, 5], \n",
    "                  [6, 7, 8, 9, 10]])\n",
    "\n",
    "print(array[0:3, 0:3],\"\\n\")\n",
    "\n",
    "subarray_2 = array[:, 1]  # All rows and Column 1\n",
    "subarray_3 = array[1, :]  # Row 1 and All columns\n",
    "\n",
    "print(\"Subarray 2:\")\n",
    "print(subarray_2,\"\\n\")\n",
    "print(\"Subarray 3:\")\n",
    "print(subarray_3)"
   ]
  },
  {
   "cell_type": "markdown",
   "metadata": {},
   "source": [
    "5-D ARRAY using ndmin"
   ]
  },
  {
   "cell_type": "code",
   "execution_count": 6,
   "metadata": {},
   "outputs": [
    {
     "name": "stdout",
     "output_type": "stream",
     "text": [
      "[[[[[1 2 3 4]]]]]\n",
      "shape of array : (1, 1, 1, 1, 4)\n"
     ]
    }
   ],
   "source": [
    "arr5D = np.array([1, 2, 3, 4], ndmin=5)\n",
    "\n",
    "print(arr5D) \n",
    "print('shape of array :', arr5D.shape) # M×N columns and rows.    "
   ]
  },
  {
   "cell_type": "markdown",
   "metadata": {},
   "source": [
    "Reshape the array from 1-D to 2-D array."
   ]
  },
  {
   "cell_type": "code",
   "execution_count": 12,
   "metadata": {},
   "outputs": [
    {
     "name": "stdout",
     "output_type": "stream",
     "text": [
      "[[0 1 2]\n",
      " [3 4 5]]\n"
     ]
    }
   ],
   "source": [
    "reshape_array = np.arange(0, 6)\n",
    "\n",
    "reshaped_array = np.reshape(reshape_array, (2, 3)) # Reshape the array into a 2-D array with 2 rows and 3 columns\n",
    "\n",
    "print(reshaped_array)"
   ]
  },
  {
   "cell_type": "markdown",
   "metadata": {},
   "source": [
    "Perform the Stack functions in Numpy arrays – Stack(), hstack(), vstack(), and dstack(). "
   ]
  },
  {
   "cell_type": "code",
   "execution_count": 20,
   "metadata": {},
   "outputs": [
    {
     "name": "stdout",
     "output_type": "stream",
     "text": [
      "np.stack() along axis 0:\n",
      "[[1 2 3]\n",
      " [4 5 6]]\n",
      "\n",
      "np.stack() along axis 1:\n",
      "[[1 4]\n",
      " [2 5]\n",
      " [3 6]]\n",
      "\n",
      "np.hstack():\n",
      "[1 2 3 4 5 6]\n",
      "\n",
      "np.vstack():\n",
      "[[1 2 3]\n",
      " [4 5 6]]\n",
      "\n",
      "np.dstack():\n",
      "[[[ 7 10]]\n",
      "\n",
      " [[ 8 11]]\n",
      "\n",
      " [[ 9 12]]]\n"
     ]
    }
   ],
   "source": [
    "# Perform the Stack functions in Numpy arrays – Stack(), hstack(), vstack(), and dstack().\n",
    "import numpy as np\n",
    "\n",
    "# Create sample arrays\n",
    "arr1 = np.array([1, 2, 3])\n",
    "arr2 = np.array([4, 5, 6])\n",
    "\n",
    "# np.stack(): Stacking along a new axis\n",
    "stacked_axis0 = np.stack((arr1, arr2), axis=0)\n",
    "stacked_axis1 = np.stack((arr1, arr2), axis=1)\n",
    "\n",
    "print(\"np.stack() along axis 0:\")\n",
    "print(stacked_axis0)\n",
    "print(\"\\nnp.stack() along axis 1:\")\n",
    "print(stacked_axis1)\n",
    "\n",
    "# np.hstack(): Stacking horizontally\n",
    "hstacked = np.hstack((arr1, arr2))\n",
    "print(\"\\nnp.hstack():\")\n",
    "print(hstacked)\n",
    "\n",
    "# np.vstack(): Stacking vertically\n",
    "vstacked = np.vstack((arr1, arr2))\n",
    "print(\"\\nnp.vstack():\")\n",
    "print(vstacked)\n",
    "\n",
    "# Create 2D arrays\n",
    "arr3 = np.array([[7], [8], [9]])\n",
    "arr4 = np.array([[10], [11], [12]])\n",
    "\n",
    "# np.dstack(): Stacking along the third axis (depth-wise)\n",
    "dstacked = np.dstack((arr3, arr4))\n",
    "print(\"\\nnp.dstack():\")\n",
    "print(dstacked)\n"
   ]
  },
  {
   "cell_type": "markdown",
   "metadata": {},
   "source": [
    "Perform the searchsort method in Numpy array.\n"
   ]
  },
  {
   "cell_type": "code",
   "execution_count": 21,
   "metadata": {},
   "outputs": [
    {
     "name": "stdout",
     "output_type": "stream",
     "text": [
      "Original array:\n",
      "[3 1 2 5 4]\n",
      "Sorted array:\n",
      "[1 2 3 4 5]\n"
     ]
    }
   ],
   "source": [
    "sort_array = np.array([3, 1, 2, 5, 4])\n",
    "\n",
    "# Sort the array\n",
    "sorted_arr = np.sort(sort_array)\n",
    "\n",
    "print(\"Original array:\")\n",
    "print(sort_array)\n",
    "print(\"Sorted array:\")\n",
    "print(sorted_arr)"
   ]
  },
  {
   "cell_type": "markdown",
   "metadata": {},
   "source": [
    "Create Numpy Structured array using your domain features.\n"
   ]
  },
  {
   "cell_type": "code",
   "execution_count": 4,
   "metadata": {},
   "outputs": [
    {
     "name": "stdout",
     "output_type": "stream",
     "text": [
      "Structured Array:\n",
      "[('TenZ', 'Sentinels', 22, 100000,  True)\n",
      " ('ShahzaM', 'Sentinels', 24, 100000, False)\n",
      " ('Shroud', 'Sentinels', 32, 300000, False)]\n",
      "\n",
      "First PLAYER:\n",
      "Player Name: TenZ\n",
      "Player Team: Sentinels\n",
      "Player Age: 22\n",
      "Player Salary 100000\n",
      "Player Is Active: True\n"
     ]
    }
   ],
   "source": [
    "# Create Numpy Structured array using your domain features.\n",
    "import numpy as np\n",
    "\n",
    "# Define the data types for esports mgmt website features\n",
    "feature_dtype = np.dtype([\n",
    "    ('Player_Name', 'U50'),         #unicode string 50 chars\n",
    "    ('Team', 'U50'),             \n",
    "    ('Age', 'i4'),                  #32 bit integer\n",
    "    ('Salary_per_month', 'i8'),     #64 bit integer\n",
    "    ('Is_Active', bool)   \n",
    "])\n",
    "\n",
    "# Create an empty structured array with the defined data type\n",
    "Team_features = np.array([], dtype=feature_dtype)\n",
    "\n",
    "# Add website features to the structured array\n",
    "player1 = ('TenZ','Sentinels',22,100000,True)\n",
    "player2 = ('ShahzaM','Sentinels',24,100000,False)\n",
    "player3 = ('Shroud','Sentinels',32,300000,False)\n",
    "\n",
    "Team_features = np.array([player1, player2, player3], dtype=feature_dtype)\n",
    "\n",
    "# Access and manipulate the structured array\n",
    "print(\"Structured Array:\")\n",
    "print(Team_features)\n",
    "\n",
    "# Accessing individual features\n",
    "print(\"\\nFirst PLAYER:\")\n",
    "print(\"Player Name:\", Team_features['Player_Name'][0])\n",
    "print(\"Player Team:\", Team_features['Team'][0])\n",
    "print(\"Player Age:\", Team_features['Age'][0])\n",
    "print(\"Player Salary\", Team_features['Salary_per_month'][0])\n",
    "print(\"Player Is Active:\", Team_features['Is_Active'][0])\n"
   ]
  },
  {
   "cell_type": "markdown",
   "metadata": {},
   "source": [
    "Create Data frame using List and Dictionary"
   ]
  },
  {
   "cell_type": "code",
   "execution_count": 25,
   "metadata": {},
   "outputs": [
    {
     "name": "stdout",
     "output_type": "stream",
     "text": [
      "        Name  Age\n",
      "0      Shawn   21\n",
      "1        Sid   23\n",
      "2  Shivanshi   21 \n",
      "\n",
      "        Name  Age\n",
      "0      Shawn   21\n",
      "1        Sid   23\n",
      "2  Shivanshi   21\n"
     ]
    }
   ],
   "source": [
    "import pandas as pd\n",
    "\n",
    "# Create a list of data\n",
    "data_list = [\n",
    "    ['Shawn', 21],\n",
    "    ['Sid', 23],\n",
    "    ['Shivanshi', 21]\n",
    "]\n",
    "\n",
    "# Create a DataFrame from the list\n",
    "df_list = pd.DataFrame(data_list, columns=['Name', 'Age'])\n",
    "\n",
    "# Display the DataFrame\n",
    "print(df_list,\"\\n\")\n",
    "\n",
    "\n",
    "# Create a dictionary of data\n",
    "data_dict = {\n",
    "    'Name': ['Shawn', 'Sid', 'Shivanshi'],\n",
    "    'Age': [21, 23, 21]\n",
    "}\n",
    "\n",
    "# Create a DataFrame from the dictionary\n",
    "df_dict = pd.DataFrame(data_dict)\n",
    "\n",
    "# Display the DataFrame\n",
    "print(df_dict)"
   ]
  },
  {
   "cell_type": "markdown",
   "metadata": {},
   "source": [
    "Create Data frame on your Domain area and perform the following operations to find and eliminate the\n",
    "missing data from the dataset.\n",
    " • isnull()\n",
    " • notnull()\n",
    " • dropna()\n",
    " • fillna()\n",
    " • replace()\n",
    " • interpolate()"
   ]
  },
  {
   "cell_type": "code",
   "execution_count": 1,
   "metadata": {},
   "outputs": [
    {
     "name": "stdout",
     "output_type": "stream",
     "text": [
      "Original DataFrame:\n",
      "   ID   Player  Age      Game Streamed_Platform\n",
      "0   1     TenZ   22  Valorant            Twitch\n",
      "1   2  ShahzaM   28      CSGO            Twitch\n",
      "2   3      NaN  NaN       NaN               NaN\n",
      "3   4     DapR  NaN  Valorant           Youtube\n",
      "4   5   Shroud   32      PUBG            Twitch\n",
      "\n",
      "Missing Data (isnull()):\n",
      "      ID  Player    Age   Game  Streamed_Platform\n",
      "0  False   False  False  False              False\n",
      "1  False   False  False  False              False\n",
      "2  False    True   True   True               True\n",
      "3  False   False   True  False              False\n",
      "4  False   False  False  False              False\n",
      "\n",
      "DataFrame after dropna():\n",
      "   ID   Player Age      Game Streamed_Platform\n",
      "0   1     TenZ  22  Valorant            Twitch\n",
      "1   2  ShahzaM  28      CSGO            Twitch\n",
      "4   5   Shroud  32      PUBG            Twitch\n",
      "\n",
      "DataFrame after fillna():\n",
      "   ID   Player      Age      Game Streamed_Platform\n",
      "0   1     TenZ       22  Valorant            Twitch\n",
      "1   2  ShahzaM       28      CSGO            Twitch\n",
      "2   3  No Data  No Data   No Data           No Data\n",
      "3   4     DapR  No Data  Valorant           Youtube\n",
      "4   5   Shroud       32      PUBG            Twitch\n",
      "\n",
      "DataFrame after replace():\n",
      "   ID   Player  Age      Game Streamed_Platform\n",
      "0   1     TenZ   22  Valorant            Twitch\n",
      "1   2  ShahzaM   28      CSGO            Twitch\n",
      "2   3      NaN  NaN       NaN               NaN\n",
      "3   4   Hunter  NaN  Valorant           Youtube\n",
      "4   5   Shroud   32      PUBG            Twitch\n",
      "\n",
      "DataFrame after interpolate():\n",
      "   ID   Player  Age      Game Streamed_Platform\n",
      "0   1     TenZ   22  Valorant            Twitch\n",
      "1   2  ShahzaM   28      CSGO            Twitch\n",
      "2   3      NaN  NaN       NaN               NaN\n",
      "3   4     DapR  NaN  Valorant           Youtube\n",
      "4   5   Shroud   32      PUBG            Twitch\n"
     ]
    },
    {
     "name": "stderr",
     "output_type": "stream",
     "text": [
      "C:\\Users\\shawn\\AppData\\Local\\Temp\\ipykernel_7748\\666449011.py:46: FutureWarning: DataFrame.interpolate with object dtype is deprecated and will raise in a future version. Call obj.infer_objects(copy=False) before interpolating instead.\n",
      "  df_interpolated = df.interpolate()\n"
     ]
    }
   ],
   "source": [
    "\n",
    "import pandas as pd\n",
    "import numpy as np\n",
    "\n",
    "# Create a sample DataFrame\n",
    "data = {\n",
    "    'ID': [1, 2, 3, 4, 5],\n",
    "    'Player': ['TenZ', 'ShahzaM', np.nan, 'DapR', 'Shroud'],\n",
    "    'Age': ['22', '28', np.nan, np.nan, '32'],\n",
    "    'Game': ['Valorant', 'CSGO',  np.nan, 'Valorant', 'PUBG'],\n",
    "    'Streamed_Platform': ['Twitch', 'Twitch', np.nan, 'Youtube', 'Twitch']\n",
    "}\n",
    "\n",
    "df = pd.DataFrame(data)\n",
    "\n",
    "# Display the DataFrame\n",
    "print(\"Original DataFrame:\")\n",
    "print(df)\n",
    "# isnull()\n",
    "# Identify missing values\n",
    "\n",
    "missing_data = df.isnull()\n",
    "print(\"\\nMissing Data (isnull()):\")\n",
    "print(missing_data)\n",
    "\n",
    "\n",
    "# dropna\n",
    "# Remove rows with missing values\n",
    "df_clean = df.dropna()\n",
    "print(\"\\nDataFrame after dropna():\")\n",
    "print(df_clean)\n",
    "\n",
    "# fillna\n",
    "# Replace missing values with a default value\n",
    "df_filled = df.fillna('No Data')\n",
    "print(\"\\nDataFrame after fillna():\")\n",
    "print(df_filled)\n",
    "\n",
    "# replace()\n",
    "# Replace specific values\n",
    "df_replaced = df.replace('DapR', 'Hunter')\n",
    "print(\"\\nDataFrame after replace():\")\n",
    "print(df_replaced)\n",
    "\n",
    "# interpolate\n",
    "# Interpolate missing values\n",
    "df_interpolated = df.interpolate()\n",
    "print(\"\\nDataFrame after interpolate():\")\n",
    "print(df_interpolated)\n",
    "\n"
   ]
  },
  {
   "cell_type": "code",
   "execution_count": 11,
   "metadata": {},
   "outputs": [
    {
     "name": "stdout",
     "output_type": "stream",
     "text": [
      "\n",
      "DataFrame after replace():\n",
      "         Player      Game Streamed_Platform\n",
      "ID Age                                     \n",
      "1  22      TenZ  Valorant            Twitch\n",
      "2  28   ShahzaM      CSGO            Twitch\n",
      "3  NaN      NaN       NaN               NaN\n",
      "4  NaN   Hunter  Valorant           Youtube\n",
      "5  32    Shroud      PUBG            Twitch\n"
     ]
    }
   ],
   "source": [
    "# replace()\n",
    "# Replace specific values\n",
    "df_replaced = df.replace('DapR', 'Hunter')\n",
    "print(\"\\nDataFrame after replace():\")\n",
    "print(df_replaced)\n"
   ]
  },
  {
   "cell_type": "markdown",
   "metadata": {},
   "source": [
    "Perform the Hierarchical Indexing in the above created dataset.\n"
   ]
  },
  {
   "cell_type": "code",
   "execution_count": 9,
   "metadata": {},
   "outputs": [
    {
     "name": "stdout",
     "output_type": "stream",
     "text": [
      "DataFrame with Hierarchical Indexing:\n",
      "\n",
      "         Player      Game Streamed_Platform\n",
      "ID Age                                     \n",
      "1  22      TenZ  Valorant            Twitch\n",
      "2  28   ShahzaM      CSGO            Twitch\n",
      "3  NaN      NaN       NaN               NaN\n",
      "4  NaN     DapR  Valorant           Youtube\n",
      "5  32    Shroud      PUBG            Twitch\n"
     ]
    }
   ],
   "source": [
    "data = {\n",
    "    'ID': [1, 2, 3, 4, 5],\n",
    "    'Player': ['TenZ', 'ShahzaM', np.nan, 'DapR', 'Shroud'],\n",
    "    'Age': ['22', '28', np.nan, np.nan, '32'],\n",
    "    'Game': ['Valorant', 'CSGO',  np.nan, 'Valorant', 'PUBG'],\n",
    "    'Streamed_Platform': ['Twitch', 'Twitch', np.nan, 'Youtube', 'Twitch']\n",
    "}\n",
    "\n",
    "dfnew = pd.DataFrame(data)\n",
    "\n",
    "# Create hierarchical indexing\n",
    "dfnew.set_index(['ID', 'Age'], inplace=True)\n",
    "\n",
    "# Display the DataFrame with hierarchical indexing\n",
    "print(\"DataFrame with Hierarchical Indexing:\\n\")\n",
    "print(dfnew)"
   ]
  }
 ],
 "metadata": {
  "kernelspec": {
   "display_name": "Python 3",
   "language": "python",
   "name": "python3"
  },
  "language_info": {
   "codemirror_mode": {
    "name": "ipython",
    "version": 3
   },
   "file_extension": ".py",
   "mimetype": "text/x-python",
   "name": "python",
   "nbconvert_exporter": "python",
   "pygments_lexer": "ipython3",
   "version": "3.11.4"
  },
  "orig_nbformat": 4
 },
 "nbformat": 4,
 "nbformat_minor": 2
}
