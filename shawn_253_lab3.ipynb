{
 "cells": [
  {
   "cell_type": "markdown",
   "metadata": {},
   "source": [
    "LAB 3"
   ]
  },
  {
   "cell_type": "code",
   "execution_count": 1,
   "metadata": {},
   "outputs": [
    {
     "name": "stdout",
     "output_type": "stream",
     "text": [
      "NAME : SHAWN\n",
      "DOMAIN_NAME : ESPORTS MANAGEMENT\n",
      "REGISTER_NO : 2347253\n"
     ]
    }
   ],
   "source": [
    "def dictionaryfunc(splitted):\n",
    "    New_dict={\"NAME\":'' , 'DOMAIN_NAME':'' , 'REGISTER_NO':''}\n",
    "    New_dict.update({'NAME':splitted[0] , 'DOMAIN_NAME':splitted[1] , 'REGISTER_NO':splitted[2]})\n",
    "    for key,value in New_dict.items():\n",
    "        print(key,\":\",value)\n",
    "\n",
    "stringsplit=input(\"Enter a string of 3 values (separated by underscores): \")\n",
    "splitted=stringsplit.split('_')\n",
    "if len(splitted)<1 or len(splitted)>3:\n",
    "    print(\"Error, enter 3 values\")    \n",
    "else:\n",
    "    dictionaryfunc(splitted)\n"
   ]
  }
 ],
 "metadata": {
  "kernelspec": {
   "display_name": "Python 3",
   "language": "python",
   "name": "python3"
  },
  "language_info": {
   "codemirror_mode": {
    "name": "ipython",
    "version": 3
   },
   "file_extension": ".py",
   "mimetype": "text/x-python",
   "name": "python",
   "nbconvert_exporter": "python",
   "pygments_lexer": "ipython3",
   "version": "3.11.4"
  },
  "orig_nbformat": 4
 },
 "nbformat": 4,
 "nbformat_minor": 2
}
