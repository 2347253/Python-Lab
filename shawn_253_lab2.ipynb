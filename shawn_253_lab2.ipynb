{
 "cells": [
  {
   "cell_type": "markdown",
   "metadata": {},
   "source": [
    "i) Create a LIST with your domain attributes, insert the elements using the append (), insert(), extend() and add any iterables (tuples, sets, dictionaries etc.) to the list (Use all the methods )."
   ]
  },
  {
   "cell_type": "code",
   "execution_count": 3,
   "metadata": {},
   "outputs": [
    {
     "name": "stdout",
     "output_type": "stream",
     "text": [
      "['TenZ', 'Sentinels', 22, 10000.0, True]\n",
      "['TenZ', 'Sentinels', 22, 10000.0, True, 'Shahzam']\n",
      "[1, 'TenZ', 'Sentinels', 22, 10000.0, True, 'Shahzam']\n",
      "[1, 'TenZ', 'Sentinels', 22, 10000.0, True, 'Shahzam', 'Esports', 'Players', ('Hunter', 'Dapr')]\n"
     ]
    }
   ],
   "source": [
    "\n",
    "lst=['TenZ','Sentinels',22,10000.0,True]\n",
    "print(lst)\n",
    "lst.append(\"Shahzam\")\n",
    "print(lst)\n",
    "lst.insert(0,1)\n",
    "print(lst)\n",
    "lst.extend(['Esports','Players',('Hunter','Dapr')])\n",
    "print(lst)\n"
   ]
  },
  {
   "cell_type": "markdown",
   "metadata": {},
   "source": [
    "Create a list with numeric and perform the following operations.\n",
    "\n",
    "·Write a program to swap the first and last elements in a list."
   ]
  },
  {
   "cell_type": "code",
   "execution_count": 9,
   "metadata": {},
   "outputs": [
    {
     "name": "stdout",
     "output_type": "stream",
     "text": [
      "[10, 2, 3, 4, -5, -6, 7, 8, 9, 1]\n"
     ]
    }
   ],
   "source": [
    "listnew=[1,2,3,4,-5,-6,7,8,9,10]\n",
    "firstelement=listnew[0]\n",
    "lastelement=listnew[-1]\n",
    "listnew.pop(0)\n",
    "listnew.pop(-1)\n",
    "listnew.append(firstelement)\n",
    "listnew.insert(0,lastelement)\n",
    "print(listnew)"
   ]
  },
  {
   "cell_type": "code",
   "execution_count": 10,
   "metadata": {},
   "outputs": [
    {
     "name": "stdout",
     "output_type": "stream",
     "text": [
      "[1, 2, 3, 4, -5, -6, 7, 8, 9, 10]\n"
     ]
    }
   ],
   "source": [
    "#another way to swap elements\n",
    "listnew[0],listnew[-1] = listnew[-1],listnew[0]\n",
    "print(listnew)"
   ]
  },
  {
   "cell_type": "markdown",
   "metadata": {},
   "source": [
    "·Write a program to find the sum of the digits in a list."
   ]
  },
  {
   "cell_type": "code",
   "execution_count": 21,
   "metadata": {},
   "outputs": [
    {
     "name": "stdout",
     "output_type": "stream",
     "text": [
      "33\n"
     ]
    }
   ],
   "source": [
    "sum=0\n",
    "for i in listnew:\n",
    "        sum+=i\n",
    "print(sum)"
   ]
  },
  {
   "cell_type": "markdown",
   "metadata": {},
   "source": [
    "·Write a program to find the smallest element in a list."
   ]
  },
  {
   "cell_type": "code",
   "execution_count": 29,
   "metadata": {},
   "outputs": [
    {
     "name": "stdout",
     "output_type": "stream",
     "text": [
      "-6\n"
     ]
    }
   ],
   "source": [
    "listnew=[1,2,3,4,-5,-6,7,8,9,10]\n",
    "smallest=listnew[0]\n",
    "for j in listnew:\n",
    "    if j<listnew[0]:\n",
    "        smallest=j\n",
    "print(smallest)\n"
   ]
  },
  {
   "cell_type": "code",
   "execution_count": 30,
   "metadata": {},
   "outputs": [
    {
     "name": "stdout",
     "output_type": "stream",
     "text": [
      "-6\n"
     ]
    }
   ],
   "source": [
    "#another way to find smallest\n",
    "listnew.sort()\n",
    "print(listnew[0])"
   ]
  },
  {
   "cell_type": "markdown",
   "metadata": {},
   "source": [
    "ii)Dictionaries\n",
    "\n",
    "·Sort the dictionaries in ascending order based on the Key of the dictionary."
   ]
  },
  {
   "cell_type": "code",
   "execution_count": 37,
   "metadata": {},
   "outputs": [
    {
     "name": "stdout",
     "output_type": "stream",
     "text": [
      "{1: 'CSGO', 2: 'PUBG', 3: 'Valorant', 4: 'GTA'}\n"
     ]
    }
   ],
   "source": [
    "dictionary={3: \"Valorant\" , 1: \"CSGO\" , 2: \"PUBG\" , 4: \"GTA\"  }\n",
    "new={}\n",
    "to_a_List=list(dictionary.keys())\n",
    "to_a_List.sort()\n",
    "for i in to_a_List:\n",
    "    sorteddict={i:dictionary[i]}\n",
    "    new.update(sorteddict)\n",
    "print(new)"
   ]
  },
  {
   "cell_type": "markdown",
   "metadata": {},
   "source": [
    "· Create the dictionary with Numeric as Value in Key – Value pair and find the sum of all the values in the Dictionary."
   ]
  },
  {
   "cell_type": "code",
   "execution_count": 54,
   "metadata": {},
   "outputs": [
    {
     "name": "stdout",
     "output_type": "stream",
     "text": [
      "Sum : 1000\n"
     ]
    }
   ],
   "source": [
    "dicto = {'a': 100, 'b': 200, 'c': 300, 'd':400}\n",
    "list = []\n",
    "sum=0\n",
    "for i in dicto:\n",
    "    list.append(dicto[i])\n",
    "for j in list:\n",
    "    sum+=j\n",
    "print(\"Sum :\", sum)"
   ]
  }
 ],
 "metadata": {
  "kernelspec": {
   "display_name": "Python 3",
   "language": "python",
   "name": "python3"
  },
  "language_info": {
   "codemirror_mode": {
    "name": "ipython",
    "version": 3
   },
   "file_extension": ".py",
   "mimetype": "text/x-python",
   "name": "python",
   "nbconvert_exporter": "python",
   "pygments_lexer": "ipython3",
   "version": "3.11.4"
  },
  "orig_nbformat": 4
 },
 "nbformat": 4,
 "nbformat_minor": 2
}
