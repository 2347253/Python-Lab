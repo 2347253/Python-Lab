{
 "cells": [
  {
   "cell_type": "markdown",
   "metadata": {},
   "source": [
    " Write a program to handle the exception of ZeroDivisionError."
   ]
  },
  {
   "cell_type": "code",
   "execution_count": 8,
   "metadata": {},
   "outputs": [
    {
     "name": "stdout",
     "output_type": "stream",
     "text": [
      "Division by zero error\n"
     ]
    }
   ],
   "source": [
    "def checkerror(x,y):\n",
    "    if y == 0:\n",
    "        try:\n",
    "            check = x / y\n",
    "        except ZeroDivisionError:\n",
    "            print(\"Division by zero error\")\n",
    "    else:\n",
    "        z = x / y\n",
    "        print(\"Quotient of\",x,\"and\",y,\"is : \",z)\n",
    "\n",
    "\n",
    "x = int(input(\"Enter the numerator: \"))\n",
    "y = int(input(\"Enter the denominator: \"))\n",
    "\n",
    "checkerror(x,y)"
   ]
  },
  {
   "cell_type": "markdown",
   "metadata": {},
   "source": [
    "Write a program to handle the exception of IndexError.\n",
    "[Handle the exceptions with ‘Try’, ‘Except’, ‘Finally’ and ‘Raise’ according to the requirements in the program.\n"
   ]
  },
  {
   "cell_type": "code",
   "execution_count": 13,
   "metadata": {},
   "outputs": [
    {
     "name": "stdout",
     "output_type": "stream",
     "text": [
      "[1, 2, 3]\n",
      "Index out of range\n",
      "Make sure to print given index elements\n"
     ]
    }
   ],
   "source": [
    "def error_Check(x):\n",
    "    try:\n",
    "        print(x[50])\n",
    "    except IndexError:\n",
    "        print(\"Index out of range\")\n",
    "    finally:\n",
    "        print(\"Make sure to print given index elements\")\n",
    "\n",
    "x=eval(input(\"Enter elements in a list : \"))\n",
    "print(x)\n",
    "error_Check(x)\n",
    "\n",
    "        \n"
   ]
  },
  {
   "cell_type": "code",
   "execution_count": 16,
   "metadata": {},
   "outputs": [
    {
     "name": "stdout",
     "output_type": "stream",
     "text": [
      "[4, 5, 6]\n",
      "Make sure to print given index elements\n"
     ]
    },
    {
     "ename": "IndexError",
     "evalue": "Sorry,Index out of range",
     "output_type": "error",
     "traceback": [
      "\u001b[1;31m---------------------------------------------------------------------------\u001b[0m",
      "\u001b[1;31mIndexError\u001b[0m                                Traceback (most recent call last)",
      "Cell \u001b[1;32mIn[16], line 5\u001b[0m, in \u001b[0;36merror_Check\u001b[1;34m(x)\u001b[0m\n\u001b[0;32m      4\u001b[0m \u001b[39mtry\u001b[39;00m:\n\u001b[1;32m----> 5\u001b[0m     \u001b[39mprint\u001b[39m(x[\u001b[39m50\u001b[39;49m])\n\u001b[0;32m      6\u001b[0m \u001b[39mexcept\u001b[39;00m \u001b[39mIndexError\u001b[39;00m:\n",
      "\u001b[1;31mIndexError\u001b[0m: list index out of range",
      "\nDuring handling of the above exception, another exception occurred:\n",
      "\u001b[1;31mIndexError\u001b[0m                                Traceback (most recent call last)",
      "Cell \u001b[1;32mIn[16], line 13\u001b[0m\n\u001b[0;32m     11\u001b[0m x\u001b[39m=\u001b[39m\u001b[39meval\u001b[39m(\u001b[39minput\u001b[39m(\u001b[39m\"\u001b[39m\u001b[39mEnter elements in a list : \u001b[39m\u001b[39m\"\u001b[39m))\n\u001b[0;32m     12\u001b[0m \u001b[39mprint\u001b[39m(x)\n\u001b[1;32m---> 13\u001b[0m error_Check(x)\n",
      "Cell \u001b[1;32mIn[16], line 7\u001b[0m, in \u001b[0;36merror_Check\u001b[1;34m(x)\u001b[0m\n\u001b[0;32m      5\u001b[0m     \u001b[39mprint\u001b[39m(x[\u001b[39m50\u001b[39m])\n\u001b[0;32m      6\u001b[0m \u001b[39mexcept\u001b[39;00m \u001b[39mIndexError\u001b[39;00m:\n\u001b[1;32m----> 7\u001b[0m     \u001b[39mraise\u001b[39;00m \u001b[39mIndexError\u001b[39;00m(\u001b[39m\"\u001b[39m\u001b[39mSorry,Index out of range\u001b[39m\u001b[39m\"\u001b[39m)\n\u001b[0;32m      8\u001b[0m \u001b[39mfinally\u001b[39;00m:\n\u001b[0;32m      9\u001b[0m     \u001b[39mprint\u001b[39m(\u001b[39m\"\u001b[39m\u001b[39mMake sure to print given index elements\u001b[39m\u001b[39m\"\u001b[39m)\n",
      "\u001b[1;31mIndexError\u001b[0m: Sorry,Index out of range"
     ]
    }
   ],
   "source": [
    "#USING ERROR CHECK FUNCTION WITH 'RAISE'\n",
    "\n",
    "def error_Check(x):\n",
    "    try:\n",
    "        print(x[50])\n",
    "    except IndexError:\n",
    "        raise IndexError(\"Sorry,Index out of range\")\n",
    "    finally:\n",
    "        print(\"Make sure to print given index elements\")\n",
    "\n",
    "x=eval(input(\"Enter elements in a list : \"))\n",
    "print(x)\n",
    "error_Check(x)"
   ]
  }
 ],
 "metadata": {
  "kernelspec": {
   "display_name": "Python 3",
   "language": "python",
   "name": "python3"
  },
  "language_info": {
   "codemirror_mode": {
    "name": "ipython",
    "version": 3
   },
   "file_extension": ".py",
   "mimetype": "text/x-python",
   "name": "python",
   "nbconvert_exporter": "python",
   "pygments_lexer": "ipython3",
   "version": "3.11.4"
  },
  "orig_nbformat": 4
 },
 "nbformat": 4,
 "nbformat_minor": 2
}
