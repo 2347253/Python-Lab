{
 "cells": [
  {
   "cell_type": "markdown",
   "metadata": {},
   "source": [
    "·Write a Python code to demonstrate the sorting in descending order of values with lambda function"
   ]
  },
  {
   "cell_type": "code",
   "execution_count": 7,
   "metadata": {},
   "outputs": [
    {
     "name": "stdout",
     "output_type": "stream",
     "text": [
      "{'d': 400, 'c': 300, 'b': 200, 'a': 100}\n"
     ]
    }
   ],
   "source": [
    "# Sample dictionary\n",
    "data = {'a': 100, 'b': 200, 'c': 300, 'd':400}\n",
    "# Sorting the dictionary in descending order of values using lambda function\n",
    "sorted_data = {k:v for k,v in sorted(data.items(), key=lambda item: item[1], reverse=True)}\n",
    "\n",
    "print(sorted_data)\n"
   ]
  }
 ],
 "metadata": {
  "kernelspec": {
   "display_name": "Python 3",
   "language": "python",
   "name": "python3"
  },
  "language_info": {
   "codemirror_mode": {
    "name": "ipython",
    "version": 3
   },
   "file_extension": ".py",
   "mimetype": "text/x-python",
   "name": "python",
   "nbconvert_exporter": "python",
   "pygments_lexer": "ipython3",
   "version": "3.11.4"
  },
  "orig_nbformat": 4
 },
 "nbformat": 4,
 "nbformat_minor": 2
}
