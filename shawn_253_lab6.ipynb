{
 "cells": [
  {
   "cell_type": "markdown",
   "metadata": {},
   "source": [
    "Write a program using the Regular Exception and create a function that accepts a string and searches it for a valid phone number.\n",
    "Return the phone number if found.\n",
    "A valid phone number may be one of the following:\n",
    "(xxx)-xxx-xxxx\n",
    "xxx-xxx-xxxx\n"
   ]
  },
  {
   "cell_type": "code",
   "execution_count": 13,
   "metadata": {},
   "outputs": [
    {
     "ename": "TypeError",
     "evalue": "unsupported operand type(s) for |: 'str' and 'str'",
     "output_type": "error",
     "traceback": [
      "\u001b[1;31m---------------------------------------------------------------------------\u001b[0m",
      "\u001b[1;31mTypeError\u001b[0m                                 Traceback (most recent call last)",
      "Cell \u001b[1;32mIn[13], line 12\u001b[0m\n\u001b[0;32m      9\u001b[0m         \u001b[39mreturn\u001b[39;00m \u001b[39mNone\u001b[39;00m\n\u001b[0;32m     11\u001b[0m text \u001b[39m=\u001b[39m \u001b[39m\"\u001b[39m\u001b[39mMy phone number is (123)-456-7890\u001b[39m\u001b[39m\"\u001b[39m\n\u001b[1;32m---> 12\u001b[0m phone_number \u001b[39m=\u001b[39m is_phone_number(text)\n\u001b[0;32m     13\u001b[0m \u001b[39mprint\u001b[39m(phone_number)\n",
      "Cell \u001b[1;32mIn[13], line 4\u001b[0m, in \u001b[0;36mis_phone_number\u001b[1;34m(text)\u001b[0m\n\u001b[0;32m      3\u001b[0m \u001b[39mdef\u001b[39;00m \u001b[39mis_phone_number\u001b[39m(text):\n\u001b[1;32m----> 4\u001b[0m     phone_number_regex \u001b[39m=\u001b[39m \u001b[39mr\u001b[39;49m\u001b[39m\"\u001b[39;49m\u001b[39m(\u001b[39;49m\u001b[39m\\\u001b[39;49m\u001b[39md\u001b[39;49m\u001b[39m{3}\u001b[39;49;00m\u001b[39m)-(\u001b[39;49m\u001b[39m\\\u001b[39;49m\u001b[39md\u001b[39;49m\u001b[39m{3}\u001b[39;49;00m\u001b[39m)-(\u001b[39;49m\u001b[39m\\\u001b[39;49m\u001b[39md\u001b[39;49m\u001b[39m{4}\u001b[39;49;00m\u001b[39m)\u001b[39;49m\u001b[39m\"\u001b[39;49m \u001b[39m|\u001b[39;49m \u001b[39mr\u001b[39;49m\u001b[39m\"\u001b[39;49m\u001b[39m(\u001b[39;49m\u001b[39m\\\u001b[39;49m\u001b[39m(\u001b[39;49m\u001b[39m\\\u001b[39;49m\u001b[39md\u001b[39;49m\u001b[39m{3}\u001b[39;49;00m\u001b[39m\\\u001b[39;49m\u001b[39m))-(\u001b[39;49m\u001b[39m\\\u001b[39;49m\u001b[39md\u001b[39;49m\u001b[39m{3}\u001b[39;49;00m\u001b[39m)-(\u001b[39;49m\u001b[39m\\\u001b[39;49m\u001b[39md\u001b[39;49m\u001b[39m{4}\u001b[39;49;00m\u001b[39m)\u001b[39;49m\u001b[39m\"\u001b[39;49m\n\u001b[0;32m      5\u001b[0m     \u001b[39mtry\u001b[39;00m:\n\u001b[0;32m      6\u001b[0m         phone_number \u001b[39m=\u001b[39m re\u001b[39m.\u001b[39msearch(phone_number_regex, text)\n",
      "\u001b[1;31mTypeError\u001b[0m: unsupported operand type(s) for |: 'str' and 'str'"
     ]
    }
   ],
   "source": [
    "import re\n",
    "\n",
    "def is_phone_number(text):\n",
    "    phone_number_regex = r\"(\\d{3})-(\\d{3})-(\\d{4})  | (\\(\\d{3}\\))-(\\d{3})-(\\d{4})\"\n",
    "    try:\n",
    "        phone_number = re.search(phone_number_regex, text)\n",
    "        return phone_number.group()\n",
    "    except:\n",
    "        return None\n",
    "\n",
    "text = \"My phone number is (123)-456-7890\"\n",
    "phone_number = is_phone_number(text)\n",
    "print(phone_number)\n"
   ]
  }
 ],
 "metadata": {
  "kernelspec": {
   "display_name": "Python 3",
   "language": "python",
   "name": "python3"
  },
  "language_info": {
   "codemirror_mode": {
    "name": "ipython",
    "version": 3
   },
   "file_extension": ".py",
   "mimetype": "text/x-python",
   "name": "python",
   "nbconvert_exporter": "python",
   "pygments_lexer": "ipython3",
   "version": "3.11.4"
  },
  "orig_nbformat": 4
 },
 "nbformat": 4,
 "nbformat_minor": 2
}
