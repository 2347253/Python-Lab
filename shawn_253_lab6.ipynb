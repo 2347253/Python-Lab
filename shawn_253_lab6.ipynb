{
 "cells": [
  {
   "cell_type": "markdown",
   "metadata": {},
   "source": [
    "Write a program using the Regular Exception and create a function that accepts a string and searches it for a valid phone number.\n",
    "Return the phone number if found.\n",
    "A valid phone number may be one of the following:\n",
    "(xxx)-xxx-xxxx\n",
    "xxx-xxx-xxxx\n"
   ]
  },
  {
   "cell_type": "code",
   "execution_count": 19,
   "metadata": {},
   "outputs": [
    {
     "name": "stdout",
     "output_type": "stream",
     "text": [
      "123-456-7890\n",
      "(123)-456-7890\n"
     ]
    }
   ],
   "source": [
    "import re\n",
    "\n",
    "def is_phone_number(text):\n",
    "    phone_number_regex = r\"(\\(\\d{3}\\))-(\\d{3})-(\\d{4})|(\\d{3})-(\\d{3})-(\\d{4})\"\n",
    "    try:\n",
    "        phone_number = re.search(phone_number_regex, text)\n",
    "        return phone_number.group()\n",
    "    except:\n",
    "        return None\n",
    "\n",
    "text = \"My phone number is 123-456-7890\"\n",
    "text_brackets = \"My phone number is (123)-456-7890\"\n",
    "phone_number = is_phone_number(text)\n",
    "phone_number_with_brackets = is_phone_number(text_brackets)\n",
    "print(phone_number)\n",
    "print(phone_number_with_brackets)\n"
   ]
  },
  {
   "cell_type": "markdown",
   "metadata": {},
   "source": [
    "Write a function that employs regular expressions to ensure the password given to the function is strong.\n",
    "A strong password is defined as follows:\n",
    "(·       at least eight characters long)\n",
    "(·       contains one uppercase character)\n",
    "(·       contains one lowercase character)\n",
    "(·       has at least one digit)\n",
    "(·       has at least one special character)\n",
    "[For instance: Christ@123]\n"
   ]
  },
  {
   "cell_type": "code",
   "execution_count": 21,
   "metadata": {},
   "outputs": [
    {
     "name": "stdout",
     "output_type": "stream",
     "text": [
      "True\n",
      "False\n"
     ]
    }
   ],
   "source": [
    "def strong_password(password):\n",
    "    special_characters = re.compile(r\"[!@#$%^&*()<>?]\")     #.compile() to define chracters to be checked in in string\n",
    "    upper_case_characters = re.compile(r\"[A-Z]\")\n",
    "    lower_case_characters = re.compile(r\"[a-z]\")\n",
    "    digit_characters = re.compile(r\"[0-9]\")\n",
    "\n",
    "    if len(password) < 8:\n",
    "        return False\n",
    "\n",
    "    if not special_characters.search(password):             #.seacrh() to check for the compiled characters in the password\n",
    "        return False\n",
    "\n",
    "    if not upper_case_characters.search(password):\n",
    "        return False\n",
    "\n",
    "    if not lower_case_characters.search(password):\n",
    "        return False\n",
    "\n",
    "    if not digit_characters.search(password):\n",
    "        return False\n",
    "\n",
    "    return True\n",
    "\n",
    "right_password = \"Christ@123\"\n",
    "wrong_password = \"Christ123\"\n",
    "print(strong_password(right_password))\n",
    "print(strong_password(wrong_password))"
   ]
  }
 ],
 "metadata": {
  "kernelspec": {
   "display_name": "Python 3",
   "language": "python",
   "name": "python3"
  },
  "language_info": {
   "codemirror_mode": {
    "name": "ipython",
    "version": 3
   },
   "file_extension": ".py",
   "mimetype": "text/x-python",
   "name": "python",
   "nbconvert_exporter": "python",
   "pygments_lexer": "ipython3",
   "version": "3.11.4"
  },
  "orig_nbformat": 4
 },
 "nbformat": 4,
 "nbformat_minor": 2
}
